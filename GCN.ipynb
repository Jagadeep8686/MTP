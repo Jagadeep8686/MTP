{
  "nbformat": 4,
  "nbformat_minor": 0,
  "metadata": {
    "colab": {
      "provenance": [],
      "authorship_tag": "ABX9TyM59V3lCa28fJTc6Xhn7eC3",
      "include_colab_link": true
    },
    "kernelspec": {
      "name": "python3",
      "display_name": "Python 3"
    },
    "language_info": {
      "name": "python"
    }
  },
  "cells": [
    {
      "cell_type": "markdown",
      "metadata": {
        "id": "view-in-github",
        "colab_type": "text"
      },
      "source": [
        "<a href=\"https://colab.research.google.com/github/Jagadeep8686/MTP/blob/main/GCN.ipynb\" target=\"_parent\"><img src=\"https://colab.research.google.com/assets/colab-badge.svg\" alt=\"Open In Colab\"/></a>"
      ]
    },
    {
      "cell_type": "code",
      "execution_count": 24,
      "metadata": {
        "id": "a39wnmFjgkug"
      },
      "outputs": [],
      "source": [
        "import numpy as np\n",
        "import networkx as nx\n",
        "import torch.nn.functional as F\n",
        "\n"
      ]
    },
    {
      "cell_type": "code",
      "source": [
        "g = nx.karate_club_graph()\n",
        "A = nx.to_numpy_matrix(g)\n",
        "X = np.eye(g.number_of_nodes())"
      ],
      "metadata": {
        "id": "FJx5P4-qzpVy"
      },
      "execution_count": 15,
      "outputs": []
    },
    {
      "cell_type": "code",
      "source": [
        "A_t = A + np.eye(g.number_of_nodes()) # add self-connections\n",
        "\n",
        "D_t = np.zeros_like(A_t)\n",
        "np.fill_diagonal(D_t, np.asarray(A_t.sum(axis=1)).flatten())\n",
        "\n",
        "\n",
        "D_t_invroot = np.linalg.inv(np.power(D_t,0.5))\n",
        "\n",
        "A_hat = D_t_invroot @ A_t @ D_t_invroot"
      ],
      "metadata": {
        "id": "G76YQ6R_rod9"
      },
      "execution_count": 14,
      "outputs": []
    },
    {
      "cell_type": "code",
      "source": [
        "def glorot_init(nin, nout):\n",
        "    sd = np.sqrt(2.0 / (nin + nout))\n",
        "    return np.random.uniform(-sd, sd, size=(nin, nout))"
      ],
      "metadata": {
        "id": "hPH0LShQ14O0"
      },
      "execution_count": 16,
      "outputs": []
    },
    {
      "cell_type": "code",
      "source": [
        "\n",
        "class GradDes():\n",
        "    def __init__(self, lr, wd):\n",
        "        self.lr = lr\n",
        "        self.wd = wd\n",
        "        self._y_pred = None\n",
        "        self._y_true = None\n",
        "        self._out = None\n",
        "        self.bs = None\n",
        "        self.train_nodes = None\n",
        "        \n",
        "    def __call__(self, y_pred, y_true, train_nodes=None):\n",
        "        self.y_pred = y_pred\n",
        "        self.y_true = y_true\n",
        "        \n",
        "        if train_nodes is None:\n",
        "            self.train_nodes = np.arange(y_pred.shape[0])\n",
        "        else:\n",
        "            self.train_nodes = train_nodes\n",
        "            \n",
        "        self.bs = self.train_nodes.shape[0]\n",
        "        \n",
        "    @property\n",
        "    def out(self):\n",
        "        return self._out\n",
        "    \n",
        "    @out.setter\n",
        "    def out(self, y):\n",
        "        self._out = y"
      ],
      "metadata": {
        "id": "AhqSeAGmF4xb"
      },
      "execution_count": 20,
      "outputs": []
    },
    {
      "cell_type": "code",
      "source": [
        "class GCNLayer():\n",
        "    def __init__(self, n_inputs, n_outputs, activation=None):\n",
        "        self.n_inputs = n_inputs\n",
        "        self.n_outputs = n_outputs\n",
        "        self.W = glorot_init(self.n_outputs, self.n_inputs)\n",
        "        self.activation = activation\n",
        "        \n",
        "        \n",
        "    def forward(self, A, X, W=None):\n",
        "        self._A = A\n",
        "        self._X = (A @ X).T  \n",
        "        \n",
        "        if W is None:\n",
        "            W = self.W\n",
        "        \n",
        "        H = W @ self._X \n",
        "        if self.activation is not None:\n",
        "            H = self.activation(H)\n",
        "        self._H = H  \n",
        "        return self._H.T\n",
        "\n",
        "    def backward(self, GradDes, update=True):\n",
        "        dtanh = 1 - np.asarray(self._H.T)**2  \n",
        "        d2 = np.multiply(GradDes.out, dtanh)   \n",
        "        \n",
        "        self.grad = self._A @ d2 @ self.W       \n",
        "        GradDes.out = self.grad\n",
        "        \n",
        "        dW = np.asarray(d2.T @ self._X.T) / GradDes.bs   \n",
        "        dW_wd = self.W * GradDes.wd / GradDes.bs  \n",
        "        \n",
        "        if update:\n",
        "            self.W -= (dW + dW_wd) * GradDes.lr \n",
        "        \n",
        "        return dW + dW_wd"
      ],
      "metadata": {
        "id": "1yVcJ-GUrqO9"
      },
      "execution_count": 26,
      "outputs": []
    },
    {
      "cell_type": "code",
      "source": [
        "class GCN():\n",
        "    def __init__(self,inputs, outputs,activation):\n",
        "        super().__init__()\n",
        "        self.conv1 = GCNLayer(inputs, 64,activation)\n",
        "        self.conv2 = GCNLayer(64, 32,activation)\n",
        "        self.conv3 = GCNLayer(32, outputs,activation)\n",
        "\n",
        "    def forward(self,X,A):\n",
        "\n",
        "        X = self.conv1(X, A)\n",
        "        X = F.dropout(X, training=self.training)\n",
        "        X = self.conv2(X,A)\n",
        "        X = F.dropout(X, training=self.training)\n",
        "        X = self.conv3(X, A)\n",
        "        \n",
        "        return F.log_softmax(X, dim=1)"
      ],
      "metadata": {
        "id": "2R0ftPIzBrxj"
      },
      "execution_count": 27,
      "outputs": []
    }
  ]
}